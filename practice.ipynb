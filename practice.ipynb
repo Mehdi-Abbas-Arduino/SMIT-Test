{
 "cells": [
  {
   "cell_type": "code",
   "execution_count": 1,
   "metadata": {},
   "outputs": [
    {
     "name": "stdout",
     "output_type": "stream",
     "text": [
      "('Alice', 36003.76)\n",
      "('Emma', 33003.68)\n",
      "('John', 30003.6)\n",
      "('James', 28803.52)\n",
      "('Bob', 27003.36)\n"
     ]
    }
   ],
   "source": [
    "employees = [\n",
    "    (\"John\", 50000, 4.5),\n",
    "    (\"Alice\", 60000, 4.7),\n",
    "    (\"Bob\", 45000, 4.2),\n",
    "    (\"Emma\", 55000, 4.6),\n",
    "    (\"James\", 48000, 4.4)\n",
    "]\n",
    "sales_weight = 0.6\n",
    "satisfaction_weight = 0.8\n",
    "\n",
    "def Points(sales,weight):\n",
    "    return (sales_weight * sales) + (weight * satisfaction_weight)\n",
    "emp = []\n",
    "for y in employees:\n",
    "    result = Points(y[1],y[2])\n",
    "    employee = y[0]\n",
    "    emp.append((employee,result))\n",
    "\n",
    "def get_scores(emp):\n",
    "     return emp[1]\n",
    "\n",
    "sorted_list = sorted(emp,key=get_scores,reverse=True)\n",
    "\n",
    "for sorted in sorted_list:\n",
    "    print(sorted)"
   ]
  },
  {
   "cell_type": "code",
   "execution_count": 4,
   "metadata": {},
   "outputs": [],
   "source": [
    "def evens():\n",
    "    even = []\n",
    "    for i in range(1,11):\n",
    "        if i%2==0:\n",
    "            result = i**2\n",
    "            even.append(result)\n",
    "    print(even)"
   ]
  },
  {
   "cell_type": "code",
   "execution_count": 5,
   "metadata": {},
   "outputs": [
    {
     "name": "stdout",
     "output_type": "stream",
     "text": [
      "[4, 16, 36, 64, 100]\n"
     ]
    }
   ],
   "source": [
    "evens()"
   ]
  },
  {
   "cell_type": "code",
   "execution_count": 9,
   "metadata": {},
   "outputs": [],
   "source": [
    "shopping_cart = []"
   ]
  },
  {
   "cell_type": "code",
   "execution_count": 10,
   "metadata": {},
   "outputs": [],
   "source": [
    "def add_items():\n",
    "    global shopping_cart\n",
    "    for i in range(2):\n",
    "        user_input = input(\"Enter the Vegetable = \")\n",
    "        shopping_cart.append(user_input)"
   ]
  },
  {
   "cell_type": "code",
   "execution_count": 11,
   "metadata": {},
   "outputs": [],
   "source": [
    "# Removing items "
   ]
  },
  {
   "cell_type": "code",
   "execution_count": 17,
   "metadata": {},
   "outputs": [],
   "source": [
    "def remove():\n",
    "    global shopping_cart\n",
    "    remove = int(input(\"How many items you want to remove from your cart = \"))\n",
    "    for i in range(remove):\n",
    "        user_input = input(\"What to Remove from list = \")\n",
    "        if user_input in shopping_cart:\n",
    "            shopping_cart.remove(user_input)"
   ]
  },
  {
   "cell_type": "code",
   "execution_count": 18,
   "metadata": {},
   "outputs": [],
   "source": [
    "def display_shopping_cart():\n",
    "    global shopping_cart\n",
    "    print(shopping_cart)"
   ]
  },
  {
   "cell_type": "code",
   "execution_count": 19,
   "metadata": {},
   "outputs": [],
   "source": [
    "add_items()"
   ]
  },
  {
   "cell_type": "code",
   "execution_count": 20,
   "metadata": {},
   "outputs": [],
   "source": [
    "remove()"
   ]
  },
  {
   "cell_type": "code",
   "execution_count": 21,
   "metadata": {},
   "outputs": [
    {
     "name": "stdout",
     "output_type": "stream",
     "text": [
      "['Potato', 'Onion', 'Potato']\n"
     ]
    }
   ],
   "source": [
    "display_shopping_cart()"
   ]
  },
  {
   "cell_type": "code",
   "execution_count": 25,
   "metadata": {},
   "outputs": [
    {
     "name": "stdout",
     "output_type": "stream",
     "text": [
      "apple:3\n",
      "banana:2\n",
      "orange:1\n"
     ]
    }
   ],
   "source": [
    "word_list = [\"apple\", \"banana\", \"apple\", \"orange\", \"banana\", \"apple\"]\n",
    "printed_words = set()\n",
    "\n",
    "for i in word_list:\n",
    "    if i not in printed_words:\n",
    "        print(\"{}:{}\".format(i,word_list.count(i)))\n",
    "        printed_words.add(i)"
   ]
  },
  {
   "cell_type": "code",
   "execution_count": 29,
   "metadata": {},
   "outputs": [
    {
     "name": "stdout",
     "output_type": "stream",
     "text": [
      "Strong Password\n"
     ]
    }
   ],
   "source": [
    "password = input(\"Enter Your Password = \")\n",
    "if len(password) == 8 :\n",
    "    \n",
    "    type_int = any(password.isdigit for char in password)\n",
    "    type_str = any(password.isalpha for char in password)\n",
    "\n",
    "    if type_int and type_str:\n",
    "        print(\"Strong Password\")"
   ]
  }
 ],
 "metadata": {
  "kernelspec": {
   "display_name": "base",
   "language": "python",
   "name": "python3"
  },
  "language_info": {
   "codemirror_mode": {
    "name": "ipython",
    "version": 3
   },
   "file_extension": ".py",
   "mimetype": "text/x-python",
   "name": "python",
   "nbconvert_exporter": "python",
   "pygments_lexer": "ipython3",
   "version": "3.11.7"
  }
 },
 "nbformat": 4,
 "nbformat_minor": 2
}
