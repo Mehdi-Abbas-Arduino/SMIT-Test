{
 "cells": [
  {
   "cell_type": "markdown",
   "metadata": {},
   "source": [
    "# Employee Perfomance Evaluation\n"
   ]
  },
  {
   "cell_type": "code",
   "execution_count": 1,
   "metadata": {},
   "outputs": [],
   "source": [
    "# Contains Employee_names,sales_Figure,customer satisfaction\n",
    "# Contains list of tuples "
   ]
  },
  {
   "cell_type": "code",
   "execution_count": 2,
   "metadata": {},
   "outputs": [
    {
     "name": "stdout",
     "output_type": "stream",
     "text": [
      "[('John', 30001.8), ('Alice', 36001.88), ('Bob', 27001.68), ('Emma', 33001.84), ('James', 28801.76)]\n",
      "('Alice', 36001.88)\n",
      "('Emma', 33001.84)\n",
      "('John', 30001.8)\n",
      "('James', 28801.76)\n",
      "('Bob', 27001.68)\n"
     ]
    }
   ],
   "source": [
    "# Sample data: List of tuples containing employee names, sales figures, and customer satisfaction ratings\n",
    "employees = [\n",
    "    (\"John\", 50000, 4.5),\n",
    "    (\"Alice\", 60000, 4.7),\n",
    "    (\"Bob\", 45000, 4.2),\n",
    "    (\"Emma\", 55000, 4.6),\n",
    "    (\"James\", 48000, 4.4)\n",
    "]\n",
    "\n",
    "# Define weights for sales performance and customer satisfaction ratings\n",
    "sales_weight = 0.6\n",
    "satisfaction_weight = 0.4\n",
    "\n",
    "# Function to calculate the weighted score\n",
    "def calculate_weighted_score(sales, satisfaction):\n",
    "    return sales * sales_weight + satisfaction * satisfaction_weight\n",
    "\n",
    "# Create a new list with employee names and their weighted scores\n",
    "employee_scores = []\n",
    "for employee in employees:\n",
    "    x = calculate_weighted_score(employee[1],employee[2])\n",
    "    employee = employee[0]\n",
    "    employee_scores.append((employee,x))\n",
    "\n",
    "print(employee_scores)\n",
    "\n",
    "def get_score(employee):\n",
    "    return employee[1]\n",
    "\n",
    "# Sort the employees based on their weighted scores in descending order\n",
    "sorted_employees = sorted(employee_scores, key=get_score, reverse=True)\n",
    "for employee in sorted_employees:\n",
    "    print(employee)"
   ]
  },
  {
   "cell_type": "code",
   "execution_count": 3,
   "metadata": {},
   "outputs": [],
   "source": [
    "# Scenario2"
   ]
  },
  {
   "cell_type": "code",
   "execution_count": 4,
   "metadata": {},
   "outputs": [],
   "source": [
    "def evens():\n",
    "    square_list = []\n",
    "    for i in range (1,11):\n",
    "        if i%2==0:\n",
    "            square = i**2\n",
    "            square_list.append(square)\n",
    "\n",
    "    print(square_list)"
   ]
  },
  {
   "cell_type": "code",
   "execution_count": 5,
   "metadata": {},
   "outputs": [
    {
     "name": "stdout",
     "output_type": "stream",
     "text": [
      "[4, 16, 36, 64, 100]\n"
     ]
    }
   ],
   "source": [
    "evens()"
   ]
  },
  {
   "cell_type": "code",
   "execution_count": null,
   "metadata": {},
   "outputs": [],
   "source": []
  }
 ],
 "metadata": {
  "kernelspec": {
   "display_name": "base",
   "language": "python",
   "name": "python3"
  },
  "language_info": {
   "codemirror_mode": {
    "name": "ipython",
    "version": 3
   },
   "file_extension": ".py",
   "mimetype": "text/x-python",
   "name": "python",
   "nbconvert_exporter": "python",
   "pygments_lexer": "ipython3",
   "version": "3.11.7"
  }
 },
 "nbformat": 4,
 "nbformat_minor": 2
}
