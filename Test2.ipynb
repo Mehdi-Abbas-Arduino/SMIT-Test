{
 "cells": [
  {
   "cell_type": "code",
   "execution_count": 56,
   "metadata": {},
   "outputs": [],
   "source": [
    "# Grocery Shopping\n",
    "shopping_list = []"
   ]
  },
  {
   "cell_type": "code",
   "execution_count": 57,
   "metadata": {},
   "outputs": [
    {
     "name": "stdout",
     "output_type": "stream",
     "text": [
      "Add four items\n"
     ]
    }
   ],
   "source": [
    "print(\"Add four items\")\n",
    "for i in range (1,5):\n",
    "    shopping_list.append(input(\"Enter the Items you want to add = \"))"
   ]
  },
  {
   "cell_type": "code",
   "execution_count": 41,
   "metadata": {},
   "outputs": [],
   "source": [
    "user = int(input(\"Enter the number = \"))\n",
    "for i in range(user):\n",
    "    shopping_list.remove(input(\"What to remove = \"))"
   ]
  },
  {
   "cell_type": "code",
   "execution_count": 42,
   "metadata": {},
   "outputs": [],
   "source": [
    "def display_list(shopping):\n",
    "    print(shopping)"
   ]
  },
  {
   "cell_type": "code",
   "execution_count": 43,
   "metadata": {},
   "outputs": [
    {
     "data": {
      "text/plain": [
       "['Tomato', 'Tomato', 'Potato', 'Ginger', 'Garlic']"
      ]
     },
     "execution_count": 43,
     "metadata": {},
     "output_type": "execute_result"
    }
   ],
   "source": [
    "shopping_list"
   ]
  },
  {
   "cell_type": "code",
   "execution_count": 45,
   "metadata": {},
   "outputs": [],
   "source": [
    "# Student Grades \n",
    "students = {}"
   ]
  },
  {
   "cell_type": "code",
   "execution_count": 47,
   "metadata": {},
   "outputs": [],
   "source": [
    "for i in range (1,6):\n",
    "    students['Student '+ str(i)] = int(input(\"Enter Marks = \"))\n"
   ]
  },
  {
   "cell_type": "code",
   "execution_count": 48,
   "metadata": {},
   "outputs": [
    {
     "data": {
      "text/plain": [
       "{'Student 1': 20,\n",
       " 'Student 2': 30,\n",
       " 'Student 3': 40,\n",
       " 'Student 4': 50,\n",
       " 'Student 5': 60}"
      ]
     },
     "execution_count": 48,
     "metadata": {},
     "output_type": "execute_result"
    }
   ],
   "source": [
    "students"
   ]
  },
  {
   "cell_type": "code",
   "execution_count": 49,
   "metadata": {},
   "outputs": [
    {
     "name": "stdout",
     "output_type": "stream",
     "text": [
      "40.0\n"
     ]
    }
   ],
   "source": [
    "num = 0\n",
    "for key,value in students.items():\n",
    "    num = value + num\n",
    "    \n",
    "avg = num / len(students)\n",
    "print(avg)"
   ]
  },
  {
   "cell_type": "code",
   "execution_count": 50,
   "metadata": {},
   "outputs": [],
   "source": [
    "# Frequency Counter "
   ]
  },
  {
   "cell_type": "code",
   "execution_count": 63,
   "metadata": {},
   "outputs": [
    {
     "name": "stdout",
     "output_type": "stream",
     "text": [
      "apple: 3\n",
      "banana: 2\n",
      "orange: 1\n"
     ]
    }
   ],
   "source": [
    "word_list = [\"apple\", \"banana\", \"apple\", \"orange\", \"banana\", \"apple\"]\n",
    "\n",
    "# Create a set to store the words that have been printed\n",
    "printed_words = set()\n",
    "\n",
    "# Loop through the list and print the count of each word only once\n",
    "for i in word_list:\n",
    "    if i not in printed_words:\n",
    "        print(f\"{i}: {word_list.count(i)}\")\n",
    "        printed_words.add(i)\n"
   ]
  },
  {
   "cell_type": "code",
   "execution_count": 64,
   "metadata": {},
   "outputs": [],
   "source": [
    "# PassWord Strength Checker "
   ]
  },
  {
   "cell_type": "code",
   "execution_count": 68,
   "metadata": {},
   "outputs": [
    {
     "name": "stdout",
     "output_type": "stream",
     "text": [
      "Strong Password\n"
     ]
    }
   ],
   "source": [
    "password = input(\"Enter your password: \")\n",
    "\n",
    "# Check if the password length is exactly 8 characters\n",
    "if len(password) == 8:\n",
    "    # Check if the password contains at least one digit and one letter\n",
    "    contains_digit = any(char.isdigit() for char in password)\n",
    "    contains_letter = any(char.isalpha() for char in password)\n",
    "    \n",
    "    if contains_digit and contains_letter:\n",
    "        print(\"Strong Password\")\n",
    "    else:\n",
    "        print(\"Password should contain at least one letter and one digit.\")\n",
    "else:\n",
    "    print(\"Password should be exactly 8 characters long.\")\n"
   ]
  },
  {
   "cell_type": "code",
   "execution_count": null,
   "metadata": {},
   "outputs": [],
   "source": []
  }
 ],
 "metadata": {
  "kernelspec": {
   "display_name": "base",
   "language": "python",
   "name": "python3"
  },
  "language_info": {
   "codemirror_mode": {
    "name": "ipython",
    "version": 3
   },
   "file_extension": ".py",
   "mimetype": "text/x-python",
   "name": "python",
   "nbconvert_exporter": "python",
   "pygments_lexer": "ipython3",
   "version": "3.11.7"
  }
 },
 "nbformat": 4,
 "nbformat_minor": 2
}
